{
 "cells": [
  {
   "cell_type": "code",
   "execution_count": 21,
   "metadata": {},
   "outputs": [
    {
     "name": "stdout",
     "output_type": "stream",
     "text": [
      "Tensorflow Version: 2.0.0\n"
     ]
    }
   ],
   "source": [
    "import tensorflow as tf\n",
    "print('Tensorflow Version: {}'.format(tf.__version__))"
   ]
  },
  {
   "cell_type": "code",
   "execution_count": 22,
   "metadata": {},
   "outputs": [],
   "source": [
    "import pandas as pd\n",
    "import numpy as np\n",
    "import matplotlib.pyplot as plt\n",
    "%matplotlib inline"
   ]
  },
  {
   "cell_type": "code",
   "execution_count": 23,
   "metadata": {},
   "outputs": [
    {
     "data": {
      "text/html": [
       "<div>\n",
       "<style scoped>\n",
       "    .dataframe tbody tr th:only-of-type {\n",
       "        vertical-align: middle;\n",
       "    }\n",
       "\n",
       "    .dataframe tbody tr th {\n",
       "        vertical-align: top;\n",
       "    }\n",
       "\n",
       "    .dataframe thead th {\n",
       "        text-align: right;\n",
       "    }\n",
       "</style>\n",
       "<table border=\"1\" class=\"dataframe\">\n",
       "  <thead>\n",
       "    <tr style=\"text-align: right;\">\n",
       "      <th></th>\n",
       "      <th>0</th>\n",
       "      <th>1</th>\n",
       "      <th>2</th>\n",
       "      <th>3</th>\n",
       "      <th>4</th>\n",
       "      <th>5</th>\n",
       "      <th>6</th>\n",
       "      <th>7</th>\n",
       "      <th>8</th>\n",
       "      <th>9</th>\n",
       "      <th>10</th>\n",
       "      <th>11</th>\n",
       "      <th>12</th>\n",
       "      <th>13</th>\n",
       "      <th>14</th>\n",
       "      <th>15</th>\n",
       "    </tr>\n",
       "  </thead>\n",
       "  <tbody>\n",
       "    <tr>\n",
       "      <th>0</th>\n",
       "      <td>0</td>\n",
       "      <td>30.83</td>\n",
       "      <td>0.000</td>\n",
       "      <td>0</td>\n",
       "      <td>0</td>\n",
       "      <td>9</td>\n",
       "      <td>0</td>\n",
       "      <td>1.25</td>\n",
       "      <td>0</td>\n",
       "      <td>0</td>\n",
       "      <td>1</td>\n",
       "      <td>1</td>\n",
       "      <td>0</td>\n",
       "      <td>202</td>\n",
       "      <td>0.0</td>\n",
       "      <td>-1</td>\n",
       "    </tr>\n",
       "    <tr>\n",
       "      <th>1</th>\n",
       "      <td>1</td>\n",
       "      <td>58.67</td>\n",
       "      <td>4.460</td>\n",
       "      <td>0</td>\n",
       "      <td>0</td>\n",
       "      <td>8</td>\n",
       "      <td>1</td>\n",
       "      <td>3.04</td>\n",
       "      <td>0</td>\n",
       "      <td>0</td>\n",
       "      <td>6</td>\n",
       "      <td>1</td>\n",
       "      <td>0</td>\n",
       "      <td>43</td>\n",
       "      <td>560.0</td>\n",
       "      <td>-1</td>\n",
       "    </tr>\n",
       "    <tr>\n",
       "      <th>2</th>\n",
       "      <td>1</td>\n",
       "      <td>24.50</td>\n",
       "      <td>0.500</td>\n",
       "      <td>0</td>\n",
       "      <td>0</td>\n",
       "      <td>8</td>\n",
       "      <td>1</td>\n",
       "      <td>1.50</td>\n",
       "      <td>0</td>\n",
       "      <td>1</td>\n",
       "      <td>0</td>\n",
       "      <td>1</td>\n",
       "      <td>0</td>\n",
       "      <td>280</td>\n",
       "      <td>824.0</td>\n",
       "      <td>-1</td>\n",
       "    </tr>\n",
       "    <tr>\n",
       "      <th>3</th>\n",
       "      <td>0</td>\n",
       "      <td>27.83</td>\n",
       "      <td>1.540</td>\n",
       "      <td>0</td>\n",
       "      <td>0</td>\n",
       "      <td>9</td>\n",
       "      <td>0</td>\n",
       "      <td>3.75</td>\n",
       "      <td>0</td>\n",
       "      <td>0</td>\n",
       "      <td>5</td>\n",
       "      <td>0</td>\n",
       "      <td>0</td>\n",
       "      <td>100</td>\n",
       "      <td>3.0</td>\n",
       "      <td>-1</td>\n",
       "    </tr>\n",
       "    <tr>\n",
       "      <th>4</th>\n",
       "      <td>0</td>\n",
       "      <td>20.17</td>\n",
       "      <td>5.625</td>\n",
       "      <td>0</td>\n",
       "      <td>0</td>\n",
       "      <td>9</td>\n",
       "      <td>0</td>\n",
       "      <td>1.71</td>\n",
       "      <td>0</td>\n",
       "      <td>1</td>\n",
       "      <td>0</td>\n",
       "      <td>1</td>\n",
       "      <td>2</td>\n",
       "      <td>120</td>\n",
       "      <td>0.0</td>\n",
       "      <td>-1</td>\n",
       "    </tr>\n",
       "  </tbody>\n",
       "</table>\n",
       "</div>"
      ],
      "text/plain": [
       "   0      1      2   3   4   5   6     7   8   9   10  11  12   13     14  15\n",
       "0   0  30.83  0.000   0   0   9   0  1.25   0   0   1   1   0  202    0.0  -1\n",
       "1   1  58.67  4.460   0   0   8   1  3.04   0   0   6   1   0   43  560.0  -1\n",
       "2   1  24.50  0.500   0   0   8   1  1.50   0   1   0   1   0  280  824.0  -1\n",
       "3   0  27.83  1.540   0   0   9   0  3.75   0   0   5   0   0  100    3.0  -1\n",
       "4   0  20.17  5.625   0   0   9   0  1.71   0   1   0   1   2  120    0.0  -1"
      ]
     },
     "execution_count": 23,
     "metadata": {},
     "output_type": "execute_result"
    }
   ],
   "source": [
    "# 判断信用卡欺诈短信的概率，下面数据最后一列-1代表欺诈，1代表正常\n",
    "data = pd.read_csv('dataset/credit-a.csv', header=None) # 没有表头需要指定header=None\n",
    "data.head() # 默认显示前5行"
   ]
  },
  {
   "cell_type": "code",
   "execution_count": 24,
   "metadata": {},
   "outputs": [
    {
     "data": {
      "text/plain": [
       " 1    357\n",
       "-1    296\n",
       "Name: 15, dtype: int64"
      ]
     },
     "execution_count": 24,
     "metadata": {},
     "output_type": "execute_result"
    }
   ],
   "source": [
    "data.iloc[:, -1].value_counts() # 最后一列标记为1的有357行，标记为-1的有296行"
   ]
  },
  {
   "cell_type": "code",
   "execution_count": 25,
   "metadata": {},
   "outputs": [],
   "source": [
    "x = data.iloc[:, :-1] # 取最后一列之前的所有数据\n",
    "y = data.iloc[:, -1].replace(-1, 0) # 最后一列的所有-1位0"
   ]
  },
  {
   "cell_type": "code",
   "execution_count": 26,
   "metadata": {},
   "outputs": [
    {
     "name": "stdout",
     "output_type": "stream",
     "text": [
      "Model: \"sequential_2\"\n",
      "_________________________________________________________________\n",
      "Layer (type)                 Output Shape              Param #   \n",
      "=================================================================\n",
      "dense_4 (Dense)              (None, 4)                 64        \n",
      "_________________________________________________________________\n",
      "dense_5 (Dense)              (None, 4)                 20        \n",
      "_________________________________________________________________\n",
      "dense_6 (Dense)              (None, 1)                 5         \n",
      "=================================================================\n",
      "Total params: 89\n",
      "Trainable params: 89\n",
      "Non-trainable params: 0\n",
      "_________________________________________________________________\n"
     ]
    }
   ],
   "source": [
    "model = tf.keras.Sequential()\n",
    "model.add(tf.keras.layers.Dense(4, input_shape=(15,), activation='relu'))\n",
    "model.add(tf.keras.layers.Dense(4, activation='relu'))\n",
    "model.add(tf.keras.layers.Dense(1, activation='sigmoid')) # 将数据映射到： 0-1\n",
    "model.summary() # 查看model层结构"
   ]
  },
  {
   "cell_type": "code",
   "execution_count": 27,
   "metadata": {},
   "outputs": [
    {
     "name": "stdout",
     "output_type": "stream",
     "text": [
      "WARNING:tensorflow:Falling back from v2 loop because of error: Failed to find data adapter that can handle input: <class 'pandas.core.frame.DataFrame'>, <class 'NoneType'>\n",
      "Train on 653 samples\n",
      "Epoch 1/100\n",
      "653/653 [==============================] - 0s 149us/sample - loss: 0.9682 - binary_accuracy: 0.6738\n",
      "Epoch 2/100\n",
      "653/653 [==============================] - 0s 38us/sample - loss: 0.9016 - binary_accuracy: 0.6861\n",
      "Epoch 3/100\n",
      "653/653 [==============================] - 0s 39us/sample - loss: 0.8587 - binary_accuracy: 0.6570\n",
      "Epoch 4/100\n",
      "653/653 [==============================] - 0s 38us/sample - loss: 0.8316 - binary_accuracy: 0.5513\n",
      "Epoch 5/100\n",
      "653/653 [==============================] - 0s 37us/sample - loss: 0.8016 - binary_accuracy: 0.5544\n",
      "Epoch 6/100\n",
      "653/653 [==============================] - 0s 39us/sample - loss: 0.7836 - binary_accuracy: 0.5528\n",
      "Epoch 7/100\n",
      "653/653 [==============================] - 0s 38us/sample - loss: 0.7490 - binary_accuracy: 0.5544\n",
      "Epoch 8/100\n",
      "653/653 [==============================] - 0s 38us/sample - loss: 0.7184 - binary_accuracy: 0.5559\n",
      "Epoch 9/100\n",
      "653/653 [==============================] - 0s 40us/sample - loss: 0.6877 - binary_accuracy: 0.5544\n",
      "Epoch 10/100\n",
      "653/653 [==============================] - 0s 38us/sample - loss: 0.6748 - binary_accuracy: 0.5590\n",
      "Epoch 11/100\n",
      "653/653 [==============================] - 0s 38us/sample - loss: 0.6623 - binary_accuracy: 0.6156\n",
      "Epoch 12/100\n",
      "653/653 [==============================] - 0s 40us/sample - loss: 0.6658 - binary_accuracy: 0.6294\n",
      "Epoch 13/100\n",
      "653/653 [==============================] - 0s 39us/sample - loss: 0.6578 - binary_accuracy: 0.6953\n",
      "Epoch 14/100\n",
      "653/653 [==============================] - 0s 41us/sample - loss: 0.6550 - binary_accuracy: 0.6983\n",
      "Epoch 15/100\n",
      "653/653 [==============================] - 0s 38us/sample - loss: 0.6516 - binary_accuracy: 0.6983\n",
      "Epoch 16/100\n",
      "653/653 [==============================] - 0s 38us/sample - loss: 0.6525 - binary_accuracy: 0.6968\n",
      "Epoch 17/100\n",
      "653/653 [==============================] - 0s 38us/sample - loss: 0.6508 - binary_accuracy: 0.6968\n",
      "Epoch 18/100\n",
      "653/653 [==============================] - 0s 39us/sample - loss: 0.6610 - binary_accuracy: 0.6968\n",
      "Epoch 19/100\n",
      "653/653 [==============================] - 0s 43us/sample - loss: 0.6613 - binary_accuracy: 0.6983\n",
      "Epoch 20/100\n",
      "653/653 [==============================] - 0s 39us/sample - loss: 0.6521 - binary_accuracy: 0.6998\n",
      "Epoch 21/100\n",
      "653/653 [==============================] - 0s 42us/sample - loss: 0.6504 - binary_accuracy: 0.6998\n",
      "Epoch 22/100\n",
      "653/653 [==============================] - 0s 40us/sample - loss: 0.6518 - binary_accuracy: 0.7014\n",
      "Epoch 23/100\n",
      "653/653 [==============================] - 0s 43us/sample - loss: 0.6508 - binary_accuracy: 0.7014\n",
      "Epoch 24/100\n",
      "653/653 [==============================] - 0s 40us/sample - loss: 0.6516 - binary_accuracy: 0.7029\n",
      "Epoch 25/100\n",
      "653/653 [==============================] - 0s 39us/sample - loss: 0.6455 - binary_accuracy: 0.7014\n",
      "Epoch 26/100\n",
      "653/653 [==============================] - 0s 40us/sample - loss: 0.6469 - binary_accuracy: 0.7029\n",
      "Epoch 27/100\n",
      "653/653 [==============================] - 0s 39us/sample - loss: 0.6502 - binary_accuracy: 0.7014\n",
      "Epoch 28/100\n",
      "653/653 [==============================] - 0s 45us/sample - loss: 0.6482 - binary_accuracy: 0.7014\n",
      "Epoch 29/100\n",
      "653/653 [==============================] - 0s 40us/sample - loss: 0.6468 - binary_accuracy: 0.6998\n",
      "Epoch 30/100\n",
      "653/653 [==============================] - 0s 42us/sample - loss: 0.6434 - binary_accuracy: 0.7014\n",
      "Epoch 31/100\n",
      "653/653 [==============================] - 0s 41us/sample - loss: 0.6453 - binary_accuracy: 0.7014\n",
      "Epoch 32/100\n",
      "653/653 [==============================] - 0s 41us/sample - loss: 0.6445 - binary_accuracy: 0.7029\n",
      "Epoch 33/100\n",
      "653/653 [==============================] - 0s 38us/sample - loss: 0.6422 - binary_accuracy: 0.7029\n",
      "Epoch 34/100\n",
      "653/653 [==============================] - 0s 41us/sample - loss: 0.6411 - binary_accuracy: 0.7014\n",
      "Epoch 35/100\n",
      "653/653 [==============================] - 0s 37us/sample - loss: 0.6418 - binary_accuracy: 0.7029\n",
      "Epoch 36/100\n",
      "653/653 [==============================] - 0s 39us/sample - loss: 0.6451 - binary_accuracy: 0.7029\n",
      "Epoch 37/100\n",
      "653/653 [==============================] - 0s 41us/sample - loss: 0.6414 - binary_accuracy: 0.7029\n",
      "Epoch 38/100\n",
      "653/653 [==============================] - 0s 39us/sample - loss: 0.6464 - binary_accuracy: 0.7060\n",
      "Epoch 39/100\n",
      "653/653 [==============================] - 0s 41us/sample - loss: 0.6434 - binary_accuracy: 0.7060\n",
      "Epoch 40/100\n",
      "653/653 [==============================] - 0s 38us/sample - loss: 0.6377 - binary_accuracy: 0.7029\n",
      "Epoch 41/100\n",
      "653/653 [==============================] - 0s 40us/sample - loss: 0.6401 - binary_accuracy: 0.7044\n",
      "Epoch 42/100\n",
      "653/653 [==============================] - 0s 38us/sample - loss: 0.6381 - binary_accuracy: 0.7029\n",
      "Epoch 43/100\n",
      "653/653 [==============================] - 0s 38us/sample - loss: 0.6350 - binary_accuracy: 0.7044\n",
      "Epoch 44/100\n",
      "653/653 [==============================] - 0s 40us/sample - loss: 0.6376 - binary_accuracy: 0.7060\n",
      "Epoch 45/100\n",
      "653/653 [==============================] - 0s 38us/sample - loss: 0.6423 - binary_accuracy: 0.7014\n",
      "Epoch 46/100\n",
      "653/653 [==============================] - 0s 39us/sample - loss: 0.6587 - binary_accuracy: 0.6662\n",
      "Epoch 47/100\n",
      "653/653 [==============================] - 0s 39us/sample - loss: 0.6518 - binary_accuracy: 0.7029\n",
      "Epoch 48/100\n",
      "653/653 [==============================] - 0s 39us/sample - loss: 0.6329 - binary_accuracy: 0.7060\n",
      "Epoch 49/100\n",
      "653/653 [==============================] - 0s 41us/sample - loss: 0.6439 - binary_accuracy: 0.7060\n",
      "Epoch 50/100\n",
      "653/653 [==============================] - 0s 39us/sample - loss: 0.6374 - binary_accuracy: 0.7029\n",
      "Epoch 51/100\n",
      "653/653 [==============================] - 0s 39us/sample - loss: 0.6364 - binary_accuracy: 0.7014\n",
      "Epoch 52/100\n",
      "653/653 [==============================] - 0s 39us/sample - loss: 0.6305 - binary_accuracy: 0.7044\n",
      "Epoch 53/100\n",
      "653/653 [==============================] - 0s 38us/sample - loss: 0.6359 - binary_accuracy: 0.7060\n",
      "Epoch 54/100\n",
      "653/653 [==============================] - 0s 39us/sample - loss: 0.6293 - binary_accuracy: 0.7044\n",
      "Epoch 55/100\n",
      "653/653 [==============================] - 0s 40us/sample - loss: 0.6290 - binary_accuracy: 0.7060\n",
      "Epoch 56/100\n",
      "653/653 [==============================] - 0s 40us/sample - loss: 0.6295 - binary_accuracy: 0.7044\n",
      "Epoch 57/100\n",
      "653/653 [==============================] - 0s 39us/sample - loss: 0.6277 - binary_accuracy: 0.7060\n",
      "Epoch 58/100\n",
      "653/653 [==============================] - 0s 39us/sample - loss: 0.6279 - binary_accuracy: 0.7044\n",
      "Epoch 59/100\n",
      "653/653 [==============================] - 0s 40us/sample - loss: 0.6268 - binary_accuracy: 0.7075\n",
      "Epoch 60/100\n",
      "653/653 [==============================] - 0s 40us/sample - loss: 0.6311 - binary_accuracy: 0.7060\n",
      "Epoch 61/100\n",
      "653/653 [==============================] - 0s 37us/sample - loss: 0.6259 - binary_accuracy: 0.7060\n",
      "Epoch 62/100\n",
      "653/653 [==============================] - 0s 39us/sample - loss: 0.6253 - binary_accuracy: 0.7090\n",
      "Epoch 63/100\n",
      "653/653 [==============================] - 0s 39us/sample - loss: 0.6273 - binary_accuracy: 0.7060\n",
      "Epoch 64/100\n",
      "653/653 [==============================] - 0s 38us/sample - loss: 0.6284 - binary_accuracy: 0.7075\n",
      "Epoch 65/100\n",
      "653/653 [==============================] - 0s 39us/sample - loss: 0.6271 - binary_accuracy: 0.7060\n",
      "Epoch 66/100\n",
      "653/653 [==============================] - 0s 39us/sample - loss: 0.6247 - binary_accuracy: 0.7060\n",
      "Epoch 67/100\n",
      "653/653 [==============================] - 0s 39us/sample - loss: 0.6310 - binary_accuracy: 0.7075\n",
      "Epoch 68/100\n",
      "653/653 [==============================] - 0s 37us/sample - loss: 0.6292 - binary_accuracy: 0.7060\n",
      "Epoch 69/100\n",
      "653/653 [==============================] - 0s 40us/sample - loss: 0.6232 - binary_accuracy: 0.7090\n",
      "Epoch 70/100\n",
      "653/653 [==============================] - 0s 39us/sample - loss: 0.6229 - binary_accuracy: 0.7075\n",
      "Epoch 71/100\n",
      "653/653 [==============================] - 0s 39us/sample - loss: 0.6206 - binary_accuracy: 0.7090\n",
      "Epoch 72/100\n"
     ]
    },
    {
     "name": "stdout",
     "output_type": "stream",
     "text": [
      "653/653 [==============================] - 0s 39us/sample - loss: 0.6192 - binary_accuracy: 0.7090\n",
      "Epoch 73/100\n",
      "653/653 [==============================] - 0s 39us/sample - loss: 0.6204 - binary_accuracy: 0.7106\n",
      "Epoch 74/100\n",
      "653/653 [==============================] - 0s 39us/sample - loss: 0.6189 - binary_accuracy: 0.7106\n",
      "Epoch 75/100\n",
      "653/653 [==============================] - 0s 40us/sample - loss: 0.6190 - binary_accuracy: 0.7106\n",
      "Epoch 76/100\n",
      "653/653 [==============================] - 0s 39us/sample - loss: 0.6207 - binary_accuracy: 0.7075\n",
      "Epoch 77/100\n",
      "653/653 [==============================] - 0s 39us/sample - loss: 0.6181 - binary_accuracy: 0.7075\n",
      "Epoch 78/100\n",
      "653/653 [==============================] - 0s 39us/sample - loss: 0.6171 - binary_accuracy: 0.7106\n",
      "Epoch 79/100\n",
      "653/653 [==============================] - 0s 38us/sample - loss: 0.6215 - binary_accuracy: 0.7136\n",
      "Epoch 80/100\n",
      "653/653 [==============================] - 0s 39us/sample - loss: 0.6156 - binary_accuracy: 0.7106\n",
      "Epoch 81/100\n",
      "653/653 [==============================] - 0s 38us/sample - loss: 0.6168 - binary_accuracy: 0.7106\n",
      "Epoch 82/100\n",
      "653/653 [==============================] - 0s 38us/sample - loss: 0.6155 - binary_accuracy: 0.7121\n",
      "Epoch 83/100\n",
      "653/653 [==============================] - 0s 39us/sample - loss: 0.6136 - binary_accuracy: 0.7106\n",
      "Epoch 84/100\n",
      "653/653 [==============================] - 0s 39us/sample - loss: 0.6144 - binary_accuracy: 0.7106\n",
      "Epoch 85/100\n",
      "653/653 [==============================] - 0s 39us/sample - loss: 0.6202 - binary_accuracy: 0.7136\n",
      "Epoch 86/100\n",
      "653/653 [==============================] - 0s 40us/sample - loss: 0.6167 - binary_accuracy: 0.7121\n",
      "Epoch 87/100\n",
      "653/653 [==============================] - 0s 38us/sample - loss: 0.6160 - binary_accuracy: 0.7136\n",
      "Epoch 88/100\n",
      "653/653 [==============================] - 0s 45us/sample - loss: 0.6172 - binary_accuracy: 0.7136\n",
      "Epoch 89/100\n",
      "653/653 [==============================] - 0s 38us/sample - loss: 0.6162 - binary_accuracy: 0.7136\n",
      "Epoch 90/100\n",
      "653/653 [==============================] - 0s 38us/sample - loss: 0.6144 - binary_accuracy: 0.7136\n",
      "Epoch 91/100\n",
      "653/653 [==============================] - 0s 38us/sample - loss: 0.6128 - binary_accuracy: 0.7152\n",
      "Epoch 92/100\n",
      "653/653 [==============================] - 0s 38us/sample - loss: 0.6128 - binary_accuracy: 0.7136\n",
      "Epoch 93/100\n",
      "653/653 [==============================] - 0s 39us/sample - loss: 0.6112 - binary_accuracy: 0.7136\n",
      "Epoch 94/100\n",
      "653/653 [==============================] - 0s 39us/sample - loss: 0.6117 - binary_accuracy: 0.7152\n",
      "Epoch 95/100\n",
      "653/653 [==============================] - 0s 38us/sample - loss: 0.6156 - binary_accuracy: 0.7136\n",
      "Epoch 96/100\n",
      "653/653 [==============================] - 0s 39us/sample - loss: 0.6228 - binary_accuracy: 0.7121\n",
      "Epoch 97/100\n",
      "653/653 [==============================] - 0s 39us/sample - loss: 0.6191 - binary_accuracy: 0.7167\n",
      "Epoch 98/100\n",
      "653/653 [==============================] - 0s 40us/sample - loss: 0.6085 - binary_accuracy: 0.7136\n",
      "Epoch 99/100\n",
      "653/653 [==============================] - 0s 41us/sample - loss: 0.6091 - binary_accuracy: 0.7136\n",
      "Epoch 100/100\n",
      "653/653 [==============================] - 0s 39us/sample - loss: 0.6116 - binary_accuracy: 0.7136\n"
     ]
    }
   ],
   "source": [
    "# 编译训练 metrics -> 添加测量的相关值, eg：添加准确度 https://tensorflow.google.cn/api_docs/python/tf/keras/metrics/BinaryAccuracy\n",
    "model.compile(optimizer='adam', loss='binary_crossentropy', metrics=[tf.keras.metrics.BinaryAccuracy()])\n",
    "history = model.fit(x, y, epochs=100)"
   ]
  },
  {
   "cell_type": "code",
   "execution_count": 28,
   "metadata": {},
   "outputs": [
    {
     "data": {
      "text/plain": [
       "dict_keys(['loss', 'binary_accuracy'])"
      ]
     },
     "execution_count": 28,
     "metadata": {},
     "output_type": "execute_result"
    }
   ],
   "source": [
    "# history 为训练过程\n",
    "history.history.keys() # 获取训练过程变化的key"
   ]
  },
  {
   "cell_type": "code",
   "execution_count": 29,
   "metadata": {},
   "outputs": [
    {
     "data": {
      "text/plain": [
       "[<matplotlib.lines.Line2D at 0x7f584ecb5c18>]"
      ]
     },
     "execution_count": 29,
     "metadata": {},
     "output_type": "execute_result"
    },
    {
     "data": {
      "image/png": "[encoded data removed]",
      "text/plain": [
       "<Figure size 432x288 with 1 Axes>"
      ]
     },
     "metadata": {
      "needs_background": "light"
     },
     "output_type": "display_data"
    }
   ],
   "source": [
    "# 对变化的key取出绘图\n",
    "plt.plot(history.epoch, history.history.get('loss')) # 绘制loss(损失)的变化曲线"
   ]
  },
  {
   "cell_type": "code",
   "execution_count": 30,
   "metadata": {},
   "outputs": [
    {
     "data": {
      "text/plain": [
       "[<matplotlib.lines.Line2D at 0x7f584c59b9b0>]"
      ]
     },
     "execution_count": 30,
     "metadata": {},
     "output_type": "execute_result"
    },
    {
     "data": {
      "image/png": "[encoded data removed]",
      "text/plain": [
       "<Figure size 432x288 with 1 Axes>"
      ]
     },
     "metadata": {
      "needs_background": "light"
     },
     "output_type": "display_data"
    }
   ],
   "source": [
    "plt.plot(history.epoch, history.history.get('binary_accuracy')) # 绘制binary_accuracy(准确度)的变化曲线"
   ]
  },
  {
   "cell_type": "code",
   "execution_count": null,
   "metadata": {},
   "outputs": [],
   "source": []
  }
 ],
 "metadata": {
  "kernelspec": {
   "display_name": "Python 3",
   "language": "python",
   "name": "python3"
  },
  "language_info": {
   "codemirror_mode": {
    "name": "ipython",
    "version": 3
   },
   "file_extension": ".py",
   "mimetype": "text/x-python",
   "name": "python",
   "nbconvert_exporter": "python",
   "pygments_lexer": "ipython3",
   "version": "3.7.0"
  }
 },
 "nbformat": 4,
 "nbformat_minor": 2
}
