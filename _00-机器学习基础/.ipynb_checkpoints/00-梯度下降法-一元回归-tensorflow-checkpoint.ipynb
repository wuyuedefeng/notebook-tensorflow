{
 "cells": [
  {
   "cell_type": "code",
   "execution_count": 230,
   "metadata": {},
   "outputs": [
    {
     "name": "stdout",
     "output_type": "stream",
     "text": [
      "Tensorflow Version: 2.0.0\n"
     ]
    }
   ],
   "source": [
    "import tensorflow as tf\n",
    "import numpy as np\n",
    "import matplotlib.pyplot as plt\n",
    "print('Tensorflow Version: {}'.format(tf.__version__))"
   ]
  },
  {
   "cell_type": "code",
   "execution_count": 231,
   "metadata": {},
   "outputs": [
    {
     "data": {
      "image/png": "[encoded data removed]",
      "text/plain": [
       "<Figure size 432x288 with 1 Axes>"
      ]
     },
     "metadata": {
      "needs_background": "light"
     },
     "output_type": "display_data"
    }
   ],
   "source": [
    "# 载入数据\n",
    "data = np.genfromtxt(\"./dataset/Incoming.csv\", delimiter=\",\")\n",
    "x_data = data[1:, 1]\n",
    "y_data = data[1:, 2]\n",
    "plt.scatter(x_data, y_data)\n",
    "plt.show()"
   ]
  },
  {
   "cell_type": "code",
   "execution_count": 232,
   "metadata": {},
   "outputs": [
    {
     "name": "stdout",
     "output_type": "stream",
     "text": [
      "Model: \"sequential_42\"\n",
      "_________________________________________________________________\n",
      "Layer (type)                 Output Shape              Param #   \n",
      "=================================================================\n",
      "dense_68 (Dense)             (None, 100)               200       \n",
      "_________________________________________________________________\n",
      "dense_69 (Dense)             (None, 1)                 101       \n",
      "=================================================================\n",
      "Total params: 301\n",
      "Trainable params: 301\n",
      "Non-trainable params: 0\n",
      "_________________________________________________________________\n"
     ]
    }
   ],
   "source": [
    "# 创建模型\n",
    "model = tf.keras.Sequential() # 顺序模型\n",
    "# Dense y = ax + b\n",
    "model.add(tf.keras.layers.Dense(100, input_shape=(1,))) \n",
    "model.add(tf.keras.layers.Dense(1)) \n",
    "model.summary()"
   ]
  },
  {
   "cell_type": "code",
   "execution_count": 233,
   "metadata": {},
   "outputs": [
    {
     "name": "stdout",
     "output_type": "stream",
     "text": [
      "Train on 30 samples\n",
      "Epoch 1/100\n",
      "30/30 [==============================] - 0s 12ms/sample - loss: 2840.2292\n",
      "Epoch 2/100\n",
      "30/30 [==============================] - 0s 82us/sample - loss: 2714.1365\n",
      "Epoch 3/100\n",
      "30/30 [==============================] - 0s 65us/sample - loss: 2625.3608\n",
      "Epoch 4/100\n",
      "30/30 [==============================] - 0s 63us/sample - loss: 2552.4282\n",
      "Epoch 5/100\n",
      "30/30 [==============================] - 0s 53us/sample - loss: 2488.6392\n",
      "Epoch 6/100\n",
      "30/30 [==============================] - 0s 66us/sample - loss: 2430.9170\n",
      "Epoch 7/100\n",
      "30/30 [==============================] - 0s 64us/sample - loss: 2377.5571\n",
      "Epoch 8/100\n",
      "30/30 [==============================] - 0s 60us/sample - loss: 2327.5017\n",
      "Epoch 9/100\n",
      "30/30 [==============================] - 0s 57us/sample - loss: 2280.0459\n",
      "Epoch 10/100\n",
      "30/30 [==============================] - 0s 64us/sample - loss: 2234.6924\n",
      "Epoch 11/100\n",
      "30/30 [==============================] - 0s 61us/sample - loss: 2191.0806\n",
      "Epoch 12/100\n",
      "30/30 [==============================] - 0s 62us/sample - loss: 2148.9373\n",
      "Epoch 13/100\n",
      "30/30 [==============================] - 0s 64us/sample - loss: 2108.0544\n",
      "Epoch 14/100\n",
      "30/30 [==============================] - 0s 65us/sample - loss: 2068.2668\n",
      "Epoch 15/100\n",
      "30/30 [==============================] - 0s 65us/sample - loss: 2029.4425\n",
      "Epoch 16/100\n",
      "30/30 [==============================] - 0s 65us/sample - loss: 1991.4742\n",
      "Epoch 17/100\n",
      "30/30 [==============================] - 0s 52us/sample - loss: 1954.2742\n",
      "Epoch 18/100\n",
      "30/30 [==============================] - 0s 58us/sample - loss: 1917.7701\n",
      "Epoch 19/100\n",
      "30/30 [==============================] - 0s 57us/sample - loss: 1881.9016\n",
      "Epoch 20/100\n",
      "30/30 [==============================] - 0s 59us/sample - loss: 1846.6178\n",
      "Epoch 21/100\n",
      "30/30 [==============================] - 0s 61us/sample - loss: 1811.8772\n",
      "Epoch 22/100\n",
      "30/30 [==============================] - 0s 55us/sample - loss: 1777.6440\n",
      "Epoch 23/100\n",
      "30/30 [==============================] - 0s 54us/sample - loss: 1743.8882\n",
      "Epoch 24/100\n",
      "30/30 [==============================] - 0s 60us/sample - loss: 1710.5841\n",
      "Epoch 25/100\n",
      "30/30 [==============================] - 0s 53us/sample - loss: 1677.7098\n",
      "Epoch 26/100\n",
      "30/30 [==============================] - 0s 60us/sample - loss: 1645.2468\n",
      "Epoch 27/100\n",
      "30/30 [==============================] - 0s 52us/sample - loss: 1613.1786\n",
      "Epoch 28/100\n",
      "30/30 [==============================] - 0s 55us/sample - loss: 1581.4907\n",
      "Epoch 29/100\n",
      "30/30 [==============================] - 0s 54us/sample - loss: 1550.1711\n",
      "Epoch 30/100\n",
      "30/30 [==============================] - 0s 61us/sample - loss: 1519.2084\n",
      "Epoch 31/100\n",
      "30/30 [==============================] - 0s 53us/sample - loss: 1488.5936\n",
      "Epoch 32/100\n",
      "30/30 [==============================] - 0s 54us/sample - loss: 1458.3180\n",
      "Epoch 33/100\n",
      "30/30 [==============================] - 0s 53us/sample - loss: 1428.3745\n",
      "Epoch 34/100\n",
      "30/30 [==============================] - 0s 62us/sample - loss: 1398.7571\n",
      "Epoch 35/100\n",
      "30/30 [==============================] - 0s 55us/sample - loss: 1369.4596\n",
      "Epoch 36/100\n",
      "30/30 [==============================] - 0s 59us/sample - loss: 1340.4781\n",
      "Epoch 37/100\n",
      "30/30 [==============================] - 0s 53us/sample - loss: 1311.8086\n",
      "Epoch 38/100\n",
      "30/30 [==============================] - 0s 59us/sample - loss: 1283.4476\n",
      "Epoch 39/100\n",
      "30/30 [==============================] - 0s 98us/sample - loss: 1255.3925\n",
      "Epoch 40/100\n",
      "30/30 [==============================] - 0s 65us/sample - loss: 1227.6410\n",
      "Epoch 41/100\n",
      "30/30 [==============================] - 0s 62us/sample - loss: 1200.1914\n",
      "Epoch 42/100\n",
      "30/30 [==============================] - 0s 53us/sample - loss: 1173.0421\n",
      "Epoch 43/100\n",
      "30/30 [==============================] - 0s 68us/sample - loss: 1146.1920\n",
      "Epoch 44/100\n",
      "30/30 [==============================] - 0s 52us/sample - loss: 1119.6406\n",
      "Epoch 45/100\n",
      "30/30 [==============================] - 0s 54us/sample - loss: 1093.3873\n",
      "Epoch 46/100\n",
      "30/30 [==============================] - 0s 75us/sample - loss: 1067.4324\n",
      "Epoch 47/100\n",
      "30/30 [==============================] - 0s 71us/sample - loss: 1041.7758\n",
      "Epoch 48/100\n",
      "30/30 [==============================] - 0s 69us/sample - loss: 1016.4182\n",
      "Epoch 49/100\n",
      "30/30 [==============================] - 0s 54us/sample - loss: 991.3605\n",
      "Epoch 50/100\n",
      "30/30 [==============================] - 0s 55us/sample - loss: 966.6042\n",
      "Epoch 51/100\n",
      "30/30 [==============================] - 0s 57us/sample - loss: 942.1506\n",
      "Epoch 52/100\n",
      "30/30 [==============================] - 0s 53us/sample - loss: 918.0021\n",
      "Epoch 53/100\n",
      "30/30 [==============================] - 0s 58us/sample - loss: 894.1609\n",
      "Epoch 54/100\n",
      "30/30 [==============================] - 0s 53us/sample - loss: 870.6299\n",
      "Epoch 55/100\n",
      "30/30 [==============================] - 0s 53us/sample - loss: 847.4120\n",
      "Epoch 56/100\n",
      "30/30 [==============================] - 0s 54us/sample - loss: 824.5103\n",
      "Epoch 57/100\n",
      "30/30 [==============================] - 0s 71us/sample - loss: 801.9283\n",
      "Epoch 58/100\n",
      "30/30 [==============================] - 0s 63us/sample - loss: 779.6697\n",
      "Epoch 59/100\n",
      "30/30 [==============================] - 0s 64us/sample - loss: 757.7381\n",
      "Epoch 60/100\n",
      "30/30 [==============================] - 0s 63us/sample - loss: 736.1371\n",
      "Epoch 61/100\n",
      "30/30 [==============================] - 0s 63us/sample - loss: 714.8708\n",
      "Epoch 62/100\n",
      "30/30 [==============================] - 0s 64us/sample - loss: 693.9426\n",
      "Epoch 63/100\n",
      "30/30 [==============================] - 0s 61us/sample - loss: 673.3566\n",
      "Epoch 64/100\n",
      "30/30 [==============================] - 0s 64us/sample - loss: 653.1161\n",
      "Epoch 65/100\n",
      "30/30 [==============================] - 0s 62us/sample - loss: 633.2249\n",
      "Epoch 66/100\n",
      "30/30 [==============================] - 0s 63us/sample - loss: 613.6867\n",
      "Epoch 67/100\n",
      "30/30 [==============================] - 0s 63us/sample - loss: 594.5047\n",
      "Epoch 68/100\n",
      "30/30 [==============================] - 0s 60us/sample - loss: 575.6824\n",
      "Epoch 69/100\n",
      "30/30 [==============================] - 0s 63us/sample - loss: 557.2230\n",
      "Epoch 70/100\n",
      "30/30 [==============================] - 0s 70us/sample - loss: 539.1296\n",
      "Epoch 71/100\n",
      "30/30 [==============================] - 0s 55us/sample - loss: 521.4053\n",
      "Epoch 72/100\n",
      "30/30 [==============================] - 0s 49us/sample - loss: 504.0526\n",
      "Epoch 73/100\n",
      "30/30 [==============================] - 0s 61us/sample - loss: 487.0744\n",
      "Epoch 74/100\n",
      "30/30 [==============================] - 0s 69us/sample - loss: 470.4731\n",
      "Epoch 75/100\n",
      "30/30 [==============================] - 0s 60us/sample - loss: 454.2514\n",
      "Epoch 76/100\n",
      "30/30 [==============================] - 0s 75us/sample - loss: 438.4112\n",
      "Epoch 77/100\n",
      "30/30 [==============================] - 0s 47us/sample - loss: 422.9547\n",
      "Epoch 78/100\n",
      "30/30 [==============================] - 0s 63us/sample - loss: 407.8841\n",
      "Epoch 79/100\n",
      "30/30 [==============================] - 0s 63us/sample - loss: 393.2008\n",
      "Epoch 80/100\n",
      "30/30 [==============================] - 0s 51us/sample - loss: 378.9067\n",
      "Epoch 81/100\n",
      "30/30 [==============================] - 0s 64us/sample - loss: 365.0035\n",
      "Epoch 82/100\n",
      "30/30 [==============================] - 0s 63us/sample - loss: 351.4922\n",
      "Epoch 83/100\n",
      "30/30 [==============================] - 0s 67us/sample - loss: 338.3744\n",
      "Epoch 84/100\n",
      "30/30 [==============================] - 0s 63us/sample - loss: 325.6509\n",
      "Epoch 85/100\n",
      "30/30 [==============================] - 0s 62us/sample - loss: 313.3230\n",
      "Epoch 86/100\n",
      "30/30 [==============================] - 0s 66us/sample - loss: 301.3908\n",
      "Epoch 87/100\n",
      "30/30 [==============================] - 0s 65us/sample - loss: 289.8551\n",
      "Epoch 88/100\n",
      "30/30 [==============================] - 0s 65us/sample - loss: 278.7161\n",
      "Epoch 89/100\n",
      "30/30 [==============================] - 0s 62us/sample - loss: 267.9736\n",
      "Epoch 90/100\n",
      "30/30 [==============================] - 0s 62us/sample - loss: 257.6275\n",
      "Epoch 91/100\n",
      "30/30 [==============================] - 0s 61us/sample - loss: 247.6771\n",
      "Epoch 92/100\n",
      "30/30 [==============================] - 0s 62us/sample - loss: 238.1214\n",
      "Epoch 93/100\n",
      "30/30 [==============================] - 0s 64us/sample - loss: 228.9590\n",
      "Epoch 94/100\n",
      "30/30 [==============================] - 0s 65us/sample - loss: 220.1884\n",
      "Epoch 95/100\n",
      "30/30 [==============================] - 0s 76us/sample - loss: 211.8074\n"
     ]
    },
    {
     "name": "stdout",
     "output_type": "stream",
     "text": [
      "Epoch 96/100\n",
      "30/30 [==============================] - 0s 69us/sample - loss: 203.8136\n",
      "Epoch 97/100\n",
      "30/30 [==============================] - 0s 69us/sample - loss: 196.2043\n",
      "Epoch 98/100\n",
      "30/30 [==============================] - 0s 69us/sample - loss: 188.9758\n",
      "Epoch 99/100\n",
      "30/30 [==============================] - 0s 70us/sample - loss: 182.1244\n",
      "Epoch 100/100\n",
      "30/30 [==============================] - 0s 72us/sample - loss: 175.6457\n"
     ]
    }
   ],
   "source": [
    "# 训练\n",
    "model.compile(optimizer=tf.optimizers.Adam(lr=0.003), loss='mse') # 指定优化器 和 减少误差算法(mse平方差)\n",
    "history = model.fit(x_data, y_data, epochs=100) # 填充训练数据x变量和y结果， 重复训练100次"
   ]
  },
  {
   "cell_type": "code",
   "execution_count": 234,
   "metadata": {},
   "outputs": [
    {
     "data": {
      "text/plain": [
       "[<matplotlib.lines.Line2D at 0x7fe2072ba198>]"
      ]
     },
     "execution_count": 234,
     "metadata": {},
     "output_type": "execute_result"
    },
    {
     "data": {
      "image/png": "[encoded data removed]",
      "text/plain": [
       "<Figure size 432x288 with 1 Axes>"
      ]
     },
     "metadata": {
      "needs_background": "light"
     },
     "output_type": "display_data"
    }
   ],
   "source": [
    "# 对变化的key取出绘图\n",
    "plt.plot(history.epoch, history.history.get('loss')) # 绘制loss(损失)的变化曲线"
   ]
  },
  {
   "cell_type": "code",
   "execution_count": 235,
   "metadata": {},
   "outputs": [
    {
     "data": {
      "text/plain": [
       "array([[44.120747]], dtype=float32)"
      ]
     },
     "execution_count": 235,
     "metadata": {},
     "output_type": "execute_result"
    }
   ],
   "source": [
    "# 测试， 输入16， 输出值大约在50附近\n",
    "model.predict([16])"
   ]
  }
 ],
 "metadata": {
  "kernelspec": {
   "display_name": "Python 3",
   "language": "python",
   "name": "python3"
  },
  "language_info": {
   "codemirror_mode": {
    "name": "ipython",
    "version": 3
   },
   "file_extension": ".py",
   "mimetype": "text/x-python",
   "name": "python",
   "nbconvert_exporter": "python",
   "pygments_lexer": "ipython3",
   "version": "3.7.0"
  }
 },
 "nbformat": 4,
 "nbformat_minor": 2
}
