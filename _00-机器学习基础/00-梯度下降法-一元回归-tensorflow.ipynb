{
 "cells": [
  {
   "cell_type": "code",
   "execution_count": 236,
   "metadata": {},
   "outputs": [
    {
     "name": "stdout",
     "output_type": "stream",
     "text": [
      "Tensorflow Version: 2.0.0\n"
     ]
    }
   ],
   "source": [
    "import tensorflow as tf\n",
    "import numpy as np\n",
    "import matplotlib.pyplot as plt\n",
    "print('Tensorflow Version: {}'.format(tf.__version__))"
   ]
  },
  {
   "cell_type": "code",
   "execution_count": 237,
   "metadata": {},
   "outputs": [
    {
     "data": {
      "image/png": "[encoded data removed]",
      "text/plain": [
       "<Figure size 432x288 with 1 Axes>"
      ]
     },
     "metadata": {
      "needs_background": "light"
     },
     "output_type": "display_data"
    }
   ],
   "source": [
    "# 载入数据\n",
    "data = np.genfromtxt(\"./dataset/Incoming.csv\", delimiter=\",\")\n",
    "x_data = data[1:, 1]\n",
    "y_data = data[1:, 2]\n",
    "plt.scatter(x_data, y_data)\n",
    "plt.show()"
   ]
  },
  {
   "cell_type": "code",
   "execution_count": 238,
   "metadata": {},
   "outputs": [
    {
     "name": "stdout",
     "output_type": "stream",
     "text": [
      "Model: \"sequential_43\"\n",
      "_________________________________________________________________\n",
      "Layer (type)                 Output Shape              Param #   \n",
      "=================================================================\n",
      "dense_70 (Dense)             (None, 100)               200       \n",
      "_________________________________________________________________\n",
      "dense_71 (Dense)             (None, 1)                 101       \n",
      "=================================================================\n",
      "Total params: 301\n",
      "Trainable params: 301\n",
      "Non-trainable params: 0\n",
      "_________________________________________________________________\n"
     ]
    }
   ],
   "source": [
    "# 创建模型\n",
    "model = tf.keras.Sequential() # 顺序模型\n",
    "# Dense y = ax + b\n",
    "model.add(tf.keras.layers.Dense(100, input_shape=(1,))) \n",
    "model.add(tf.keras.layers.Dense(1)) \n",
    "model.summary()"
   ]
  },
  {
   "cell_type": "code",
   "execution_count": 239,
   "metadata": {},
   "outputs": [
    {
     "name": "stdout",
     "output_type": "stream",
     "text": [
      "Train on 30 samples\n",
      "Epoch 1/100\n",
      "30/30 [==============================] - 0s 10ms/sample - loss: 3128.4382\n",
      "Epoch 2/100\n",
      "30/30 [==============================] - 0s 80us/sample - loss: 2996.4221\n",
      "Epoch 3/100\n",
      "30/30 [==============================] - 0s 67us/sample - loss: 2867.5344\n",
      "Epoch 4/100\n",
      "30/30 [==============================] - 0s 103us/sample - loss: 2741.7966\n",
      "Epoch 5/100\n",
      "30/30 [==============================] - 0s 96us/sample - loss: 2619.2073\n",
      "Epoch 6/100\n",
      "30/30 [==============================] - 0s 117us/sample - loss: 2499.7463\n",
      "Epoch 7/100\n",
      "30/30 [==============================] - 0s 9ms/sample - loss: 2383.3931\n",
      "Epoch 8/100\n",
      "30/30 [==============================] - 0s 74us/sample - loss: 2270.1279\n",
      "Epoch 9/100\n",
      "30/30 [==============================] - 0s 88us/sample - loss: 2159.9243\n",
      "Epoch 10/100\n",
      "30/30 [==============================] - 0s 94us/sample - loss: 2052.7485\n",
      "Epoch 11/100\n",
      "30/30 [==============================] - 0s 95us/sample - loss: 1948.5604\n",
      "Epoch 12/100\n",
      "30/30 [==============================] - 0s 96us/sample - loss: 1847.3181\n",
      "Epoch 13/100\n",
      "30/30 [==============================] - 0s 107us/sample - loss: 1748.9807\n",
      "Epoch 14/100\n",
      "30/30 [==============================] - 0s 97us/sample - loss: 1653.5109\n",
      "Epoch 15/100\n",
      "30/30 [==============================] - 0s 78us/sample - loss: 1560.8767\n",
      "Epoch 16/100\n",
      "30/30 [==============================] - 0s 73us/sample - loss: 1471.0532\n",
      "Epoch 17/100\n",
      "30/30 [==============================] - 0s 63us/sample - loss: 1384.0223\n",
      "Epoch 18/100\n",
      "30/30 [==============================] - 0s 82us/sample - loss: 1299.7732\n",
      "Epoch 19/100\n",
      "30/30 [==============================] - 0s 99us/sample - loss: 1218.3029\n",
      "Epoch 20/100\n",
      "30/30 [==============================] - 0s 95us/sample - loss: 1139.6158\n",
      "Epoch 21/100\n",
      "30/30 [==============================] - 0s 97us/sample - loss: 1063.7233\n",
      "Epoch 22/100\n",
      "30/30 [==============================] - 0s 131us/sample - loss: 990.6427\n",
      "Epoch 23/100\n",
      "30/30 [==============================] - 0s 92us/sample - loss: 920.3974\n",
      "Epoch 24/100\n",
      "30/30 [==============================] - 0s 85us/sample - loss: 853.0157\n",
      "Epoch 25/100\n",
      "30/30 [==============================] - 0s 110us/sample - loss: 788.5297\n",
      "Epoch 26/100\n",
      "30/30 [==============================] - 0s 110us/sample - loss: 726.9736\n",
      "Epoch 27/100\n",
      "30/30 [==============================] - 0s 114us/sample - loss: 668.3832\n",
      "Epoch 28/100\n",
      "30/30 [==============================] - 0s 102us/sample - loss: 612.7936\n",
      "Epoch 29/100\n",
      "30/30 [==============================] - 0s 55us/sample - loss: 560.2380\n",
      "Epoch 30/100\n",
      "30/30 [==============================] - 0s 122us/sample - loss: 510.7456\n",
      "Epoch 31/100\n",
      "30/30 [==============================] - 0s 97us/sample - loss: 464.3409\n",
      "Epoch 32/100\n",
      "30/30 [==============================] - 0s 94us/sample - loss: 421.0402\n",
      "Epoch 33/100\n",
      "30/30 [==============================] - 0s 89us/sample - loss: 380.8510\n",
      "Epoch 34/100\n",
      "30/30 [==============================] - 0s 84us/sample - loss: 343.7692\n",
      "Epoch 35/100\n",
      "30/30 [==============================] - 0s 88us/sample - loss: 309.7791\n",
      "Epoch 36/100\n",
      "30/30 [==============================] - 0s 82us/sample - loss: 278.8492\n",
      "Epoch 37/100\n",
      "30/30 [==============================] - 0s 92us/sample - loss: 250.9332\n",
      "Epoch 38/100\n",
      "30/30 [==============================] - 0s 91us/sample - loss: 225.9667\n",
      "Epoch 39/100\n",
      "30/30 [==============================] - 0s 102us/sample - loss: 203.8677\n",
      "Epoch 40/100\n",
      "30/30 [==============================] - 0s 93us/sample - loss: 184.5356\n",
      "Epoch 41/100\n",
      "30/30 [==============================] - 0s 89us/sample - loss: 167.8509\n",
      "Epoch 42/100\n",
      "30/30 [==============================] - 0s 92us/sample - loss: 153.6758\n",
      "Epoch 43/100\n",
      "30/30 [==============================] - 0s 61us/sample - loss: 141.8549\n",
      "Epoch 44/100\n",
      "30/30 [==============================] - 0s 65us/sample - loss: 132.2171\n",
      "Epoch 45/100\n",
      "30/30 [==============================] - 0s 57us/sample - loss: 124.5769\n",
      "Epoch 46/100\n",
      "30/30 [==============================] - 0s 93us/sample - loss: 118.7381\n",
      "Epoch 47/100\n",
      "30/30 [==============================] - 0s 116us/sample - loss: 114.4959\n",
      "Epoch 48/100\n",
      "30/30 [==============================] - 0s 114us/sample - loss: 111.6412\n",
      "Epoch 49/100\n",
      "30/30 [==============================] - 0s 119us/sample - loss: 109.9639\n",
      "Epoch 50/100\n",
      "30/30 [==============================] - 0s 101us/sample - loss: 109.2575\n",
      "Epoch 51/100\n",
      "30/30 [==============================] - 0s 97us/sample - loss: 109.3225\n",
      "Epoch 52/100\n",
      "30/30 [==============================] - 0s 93us/sample - loss: 109.9705\n",
      "Epoch 53/100\n",
      "30/30 [==============================] - 0s 61us/sample - loss: 111.0276\n",
      "Epoch 54/100\n",
      "30/30 [==============================] - 0s 79us/sample - loss: 112.3377\n",
      "Epoch 55/100\n",
      "30/30 [==============================] - 0s 105us/sample - loss: 113.7638\n",
      "Epoch 56/100\n",
      "30/30 [==============================] - 0s 92us/sample - loss: 115.1904\n",
      "Epoch 57/100\n",
      "30/30 [==============================] - 0s 83us/sample - loss: 116.5238\n",
      "Epoch 58/100\n",
      "30/30 [==============================] - 0s 95us/sample - loss: 117.6919\n",
      "Epoch 59/100\n",
      "30/30 [==============================] - 0s 93us/sample - loss: 118.6438\n",
      "Epoch 60/100\n",
      "30/30 [==============================] - 0s 101us/sample - loss: 119.3480\n",
      "Epoch 61/100\n",
      "30/30 [==============================] - 0s 106us/sample - loss: 119.7903\n",
      "Epoch 62/100\n",
      "30/30 [==============================] - 0s 71us/sample - loss: 119.9717\n",
      "Epoch 63/100\n",
      "30/30 [==============================] - 0s 58us/sample - loss: 119.9055\n",
      "Epoch 64/100\n",
      "30/30 [==============================] - 0s 67us/sample - loss: 119.6149\n",
      "Epoch 65/100\n",
      "30/30 [==============================] - 0s 62us/sample - loss: 119.1299\n",
      "Epoch 66/100\n",
      "30/30 [==============================] - 0s 56us/sample - loss: 118.4851\n",
      "Epoch 67/100\n",
      "30/30 [==============================] - 0s 55us/sample - loss: 117.7169\n",
      "Epoch 68/100\n",
      "30/30 [==============================] - 0s 84us/sample - loss: 116.8623\n",
      "Epoch 69/100\n",
      "30/30 [==============================] - 0s 57us/sample - loss: 115.9566\n",
      "Epoch 70/100\n",
      "30/30 [==============================] - 0s 56us/sample - loss: 115.0322\n",
      "Epoch 71/100\n",
      "30/30 [==============================] - 0s 71us/sample - loss: 114.1176\n",
      "Epoch 72/100\n",
      "30/30 [==============================] - 0s 71us/sample - loss: 113.2373\n",
      "Epoch 73/100\n",
      "30/30 [==============================] - 0s 81us/sample - loss: 112.4107\n",
      "Epoch 74/100\n",
      "30/30 [==============================] - 0s 76us/sample - loss: 111.6525\n",
      "Epoch 75/100\n",
      "30/30 [==============================] - 0s 63us/sample - loss: 110.9728\n",
      "Epoch 76/100\n",
      "30/30 [==============================] - 0s 84us/sample - loss: 110.3773\n",
      "Epoch 77/100\n",
      "30/30 [==============================] - 0s 82us/sample - loss: 109.8681\n",
      "Epoch 78/100\n",
      "30/30 [==============================] - 0s 79us/sample - loss: 109.4438\n",
      "Epoch 79/100\n",
      "30/30 [==============================] - 0s 79us/sample - loss: 109.1005\n",
      "Epoch 80/100\n",
      "30/30 [==============================] - 0s 91us/sample - loss: 108.8318\n",
      "Epoch 81/100\n",
      "30/30 [==============================] - 0s 91us/sample - loss: 108.6303\n",
      "Epoch 82/100\n",
      "30/30 [==============================] - 0s 84us/sample - loss: 108.4871\n",
      "Epoch 83/100\n",
      "30/30 [==============================] - 0s 92us/sample - loss: 108.3931\n",
      "Epoch 84/100\n",
      "30/30 [==============================] - 0s 88us/sample - loss: 108.3390\n",
      "Epoch 85/100\n",
      "30/30 [==============================] - 0s 81us/sample - loss: 108.3160\n",
      "Epoch 86/100\n",
      "30/30 [==============================] - 0s 82us/sample - loss: 108.3156\n",
      "Epoch 87/100\n",
      "30/30 [==============================] - 0s 56us/sample - loss: 108.3303\n",
      "Epoch 88/100\n",
      "30/30 [==============================] - 0s 60us/sample - loss: 108.3534\n",
      "Epoch 89/100\n",
      "30/30 [==============================] - 0s 67us/sample - loss: 108.3794\n",
      "Epoch 90/100\n",
      "30/30 [==============================] - 0s 69us/sample - loss: 108.4034\n",
      "Epoch 91/100\n",
      "30/30 [==============================] - 0s 55us/sample - loss: 108.4224\n",
      "Epoch 92/100\n",
      "30/30 [==============================] - 0s 63us/sample - loss: 108.4333\n",
      "Epoch 93/100\n",
      "30/30 [==============================] - 0s 82us/sample - loss: 108.4349\n",
      "Epoch 94/100\n",
      "30/30 [==============================] - 0s 75us/sample - loss: 108.4263\n",
      "Epoch 95/100\n",
      "30/30 [==============================] - 0s 74us/sample - loss: 108.4072\n"
     ]
    },
    {
     "name": "stdout",
     "output_type": "stream",
     "text": [
      "Epoch 96/100\n",
      "30/30 [==============================] - 0s 73us/sample - loss: 108.3782\n",
      "Epoch 97/100\n",
      "30/30 [==============================] - 0s 69us/sample - loss: 108.3401\n",
      "Epoch 98/100\n",
      "30/30 [==============================] - 0s 125us/sample - loss: 108.2943\n",
      "Epoch 99/100\n",
      "30/30 [==============================] - 0s 94us/sample - loss: 108.2420\n",
      "Epoch 100/100\n",
      "30/30 [==============================] - 0s 74us/sample - loss: 108.1847\n"
     ]
    }
   ],
   "source": [
    "# 训练\n",
    "model.compile(optimizer=tf.optimizers.Adam(lr=0.003), loss='mse') # 指定优化器 和 减少误差算法(mse平方差)\n",
    "history = model.fit(x_data, y_data, epochs=100) # 填充训练数据x变量和y结果， 重复训练100次"
   ]
  },
  {
   "cell_type": "code",
   "execution_count": 240,
   "metadata": {},
   "outputs": [
    {
     "data": {
      "text/plain": [
       "[<matplotlib.lines.Line2D at 0x7fe208bf02e8>]"
      ]
     },
     "execution_count": 240,
     "metadata": {},
     "output_type": "execute_result"
    },
    {
     "data": {
      "image/png": "[encoded data removed]",
      "text/plain": [
       "<Figure size 432x288 with 1 Axes>"
      ]
     },
     "metadata": {
      "needs_background": "light"
     },
     "output_type": "display_data"
    }
   ],
   "source": [
    "# 对变化的key取出绘图\n",
    "plt.plot(history.epoch, history.history.get('loss')) # 绘制loss(损失)的变化曲线"
   ]
  },
  {
   "cell_type": "code",
   "execution_count": 241,
   "metadata": {},
   "outputs": [
    {
     "data": {
      "text/plain": [
       "array([[51.22046]], dtype=float32)"
      ]
     },
     "execution_count": 241,
     "metadata": {},
     "output_type": "execute_result"
    }
   ],
   "source": [
    "# 测试， 输入16， 输出值大约在50附近\n",
    "model.predict([16])"
   ]
  }
 ],
 "metadata": {
  "kernelspec": {
   "display_name": "Python 3",
   "language": "python",
   "name": "python3"
  },
  "language_info": {
   "codemirror_mode": {
    "name": "ipython",
    "version": 3
   },
   "file_extension": ".py",
   "mimetype": "text/x-python",
   "name": "python",
   "nbconvert_exporter": "python",
   "pygments_lexer": "ipython3",
   "version": "3.7.0"
  }
 },
 "nbformat": 4,
 "nbformat_minor": 2
}
